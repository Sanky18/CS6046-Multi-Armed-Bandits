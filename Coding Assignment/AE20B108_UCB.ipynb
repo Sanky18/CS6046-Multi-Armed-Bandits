{
  "nbformat": 4,
  "nbformat_minor": 0,
  "metadata": {
    "colab": {
      "provenance": []
    },
    "kernelspec": {
      "name": "python3",
      "display_name": "Python 3"
    },
    "language_info": {
      "name": "python"
    }
  },
  "cells": [
    {
      "cell_type": "code",
      "execution_count": 4,
      "metadata": {
        "id": "GQJewFDxUloY"
      },
      "outputs": [],
      "source": [
        "import numpy as np\n"
      ]
    },
    {
      "cell_type": "code",
      "source": [
        "class AE20B108_UCB:\n",
        "    def __init__(self, num_arms, num_samples, sigma):\n",
        "        self.__num_arms = num_arms\n",
        "        self.__num_samples = num_samples\n",
        "        self.__sample_means = np.zeros(num_arms)\n",
        "        self.__arm_counts = np.zeros(num_arms)\n",
        "        self.__current_arm = 0\n",
        "\n",
        "    def get_action(self, reward):\n",
        "        if sum(self.__arm_counts) < self.__num_arms:\n",
        "            action = self.__current_arm\n",
        "            self.__sample_means[action] += reward\n",
        "            self.__arm_counts[action] += 1\n",
        "            self.__current_arm = (self.__current_arm + 1) % self.__num_arms\n",
        "            return action\n",
        "        else:\n",
        "            ucb_values = self.__sample_means / self.__arm_counts + np.sqrt(4 * np.log(self.__num_samples + 1) / self.__arm_counts)\n",
        "            action = np.argmax(ucb_values)\n",
        "            self.__sample_means[action] += reward\n",
        "            self.__arm_counts[action] += 1\n",
        "            return action"
      ],
      "metadata": {
        "id": "IviSwfGwWQhk"
      },
      "execution_count": 1,
      "outputs": []
    },
    {
      "cell_type": "code",
      "source": [
        "class Environment:\n",
        "  def __init__(self,num_arms,mean,sigma,agent):\n",
        "    self.__num_samples = num_samples\n",
        "    self.__num_arms = num_arms\n",
        "    self.__mean = mean\n",
        "    self.__reward = -100\n",
        "    self.__action = np.zeros((num_samples,),dtype = int)\n",
        "    self.__agent = agent\n",
        "    self.__regret = 0\n",
        "\n",
        "  def run(self):\n",
        "    for i in range(self.__num_samples):\n",
        "      self.__action[i] = self.__agent.get_action(self.__reward)\n",
        "      self.__reward = self.__mean[self.__action[i]]+sigma*np.random.randn()\n",
        "    return self.__action, self.__reward"
      ],
      "metadata": {
        "id": "8I1FOQ0xUpCr"
      },
      "execution_count": 2,
      "outputs": []
    },
    {
      "cell_type": "code",
      "source": [
        "num_samples = 100\n",
        "num_arms = 4\n",
        "mean = np.random.rand(num_arms,)\n",
        "sigma = 1\n",
        "sorted_mean = np.sort(mean)\n",
        "Delta = sorted_mean[-1]-sorted_mean[-2]\n",
        "agent = AE20B108_UCB(num_arms,num_samples, sigma)\n",
        "env = Environment(num_arms,mean,sigma,agent)\n",
        "action_list, reward = env.run()\n"
      ],
      "metadata": {
        "id": "FgcoJOnUZOZV"
      },
      "execution_count": 5,
      "outputs": []
    },
    {
      "cell_type": "code",
      "source": [
        "action_list"
      ],
      "metadata": {
        "colab": {
          "base_uri": "https://localhost:8080/"
        },
        "id": "_ZwyIEZSgjFV",
        "outputId": "3e528a7b-c9b6-4028-eb95-eff2e2dc0fe1"
      },
      "execution_count": 6,
      "outputs": [
        {
          "output_type": "execute_result",
          "data": {
            "text/plain": [
              "array([0, 1, 2, 3, 2, 3, 1, 3, 2, 1, 3, 1, 2, 1, 3, 2, 3, 1, 2, 2, 3, 1,\n",
              "       2, 1, 3, 1, 2, 2, 2, 2, 1, 1, 1, 1, 1, 3, 2, 1, 2, 2, 2, 2, 2, 2,\n",
              "       1, 1, 1, 2, 3, 2, 1, 1, 2, 3, 1, 2, 2, 2, 2, 1, 2, 2, 3, 2, 1, 2,\n",
              "       1, 1, 1, 1, 2, 3, 3, 3, 3, 2, 1, 1, 3, 2, 2, 1, 1, 1, 1, 1, 2, 2,\n",
              "       2, 2, 2, 3, 1, 2, 2, 1, 1, 1, 2, 2])"
            ]
          },
          "metadata": {},
          "execution_count": 6
        }
      ]
    },
    {
      "cell_type": "code",
      "source": [
        "reward"
      ],
      "metadata": {
        "colab": {
          "base_uri": "https://localhost:8080/"
        },
        "id": "q2EsXyx7aQ1E",
        "outputId": "85079415-5323-446d-bad5-8119ee3050e2"
      },
      "execution_count": 7,
      "outputs": [
        {
          "output_type": "execute_result",
          "data": {
            "text/plain": [
              "-0.9470858275521596"
            ]
          },
          "metadata": {},
          "execution_count": 7
        }
      ]
    }
  ]
}