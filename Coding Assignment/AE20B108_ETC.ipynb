{
  "nbformat": 4,
  "nbformat_minor": 0,
  "metadata": {
    "colab": {
      "provenance": []
    },
    "kernelspec": {
      "name": "python3",
      "display_name": "Python 3"
    },
    "language_info": {
      "name": "python"
    }
  },
  "cells": [
    {
      "cell_type": "code",
      "execution_count": 12,
      "metadata": {
        "id": "GQJewFDxUloY"
      },
      "outputs": [],
      "source": [
        "import numpy as np\n"
      ]
    },
    {
      "cell_type": "code",
      "source": [
        "class AE20B108_ETC:\n",
        "    def __init__(self, num_arms, num_samples, sigma):\n",
        "        self.__num_arms = num_arms\n",
        "        self.__num_samples = num_samples\n",
        "        self.__sigma = sigma\n",
        "        self.__rewards = np.zeros(num_arms)\n",
        "        self.__arm_counts = [0] * num_arms\n",
        "        self.__m = int(max(1, np.ceil(np.power(num_samples, 2/3) * np.power((2 * np.log(2 * num_samples)), 1/3))))\n",
        "        self.__explore_phase = True\n",
        "        self.__best_arm = None\n",
        "        self.__current_arm = 0\n",
        "\n",
        "    def get_action(self, reward):\n",
        "        if self.__explore_phase:\n",
        "            if self.__arm_counts[self.__current_arm] < self.__m:\n",
        "                self.__arm_counts[self.__current_arm] += 1\n",
        "                self.__rewards[self.__current_arm] += reward\n",
        "                action = self.__current_arm\n",
        "                self.__current_arm = (self.__current_arm + 1) % self.__num_arms\n",
        "                return action\n",
        "            else:\n",
        "                self.__explore_phase = False\n",
        "                self.__best_arm = np.argmax(self.__rewards)\n",
        "                return self.__best_arm\n",
        "        else:\n",
        "            return self.__best_arm"
      ],
      "metadata": {
        "id": "IviSwfGwWQhk"
      },
      "execution_count": 40,
      "outputs": []
    },
    {
      "cell_type": "code",
      "source": [
        "class Environment:\n",
        "  def __init__(self,num_arms,mean,sigma,agent):\n",
        "    self.__num_samples = num_samples\n",
        "    self.__num_arms = num_arms\n",
        "    self.__mean = mean\n",
        "    self.__reward = -100\n",
        "    self.__action = np.zeros((num_samples,),dtype = int)\n",
        "    self.__agent = agent\n",
        "    self.__regret = 0\n",
        "\n",
        "  def run(self):\n",
        "    for i in range(self.__num_samples):\n",
        "      self.__action[i] = self.__agent.get_action(self.__reward)\n",
        "      self.__reward = self.__mean[self.__action[i]]+sigma*np.random.randn()\n",
        "    return self.__action"
      ],
      "metadata": {
        "id": "8I1FOQ0xUpCr"
      },
      "execution_count": 41,
      "outputs": []
    },
    {
      "cell_type": "code",
      "source": [
        "num_samples = 1500\n",
        "num_arms = 4\n",
        "mean = np.random.rand(num_arms,)\n",
        "sigma = 1\n",
        "p = int(max(1,np.ceil((np.power(num_samples,2/3)))*np.power((2*np.log(2*num_samples)),1/3)))\n",
        "print(p)\n",
        "print(np.ceil((np.power(num_samples,2/3)))*np.power((2*np.log(2*num_samples)),1/3))\n",
        "sorted_mean = np.sort(mean)\n",
        "Delta = sorted_mean[-1]-sorted_mean[-2]\n",
        "agent = AE20B108_ETC(num_arms,num_samples, sigma)\n",
        "env = Environment(num_arms,mean,sigma,agent)\n",
        "action_list= env.run()\n"
      ],
      "metadata": {
        "id": "FgcoJOnUZOZV",
        "colab": {
          "base_uri": "https://localhost:8080/"
        },
        "outputId": "7f7b4792-270e-4fae-d201-53b42e3175d1"
      },
      "execution_count": 47,
      "outputs": [
        {
          "output_type": "stream",
          "name": "stdout",
          "text": [
            "332\n",
            "332.707382726505\n"
          ]
        }
      ]
    },
    {
      "cell_type": "code",
      "source": [
        "action_list"
      ],
      "metadata": {
        "id": "pMtwBTupeS7W",
        "colab": {
          "base_uri": "https://localhost:8080/"
        },
        "outputId": "3ca8e876-9279-414e-fdd7-c7b97af1b3b7"
      },
      "execution_count": 48,
      "outputs": [
        {
          "output_type": "execute_result",
          "data": {
            "text/plain": [
              "array([0, 1, 2, ..., 3, 3, 3])"
            ]
          },
          "metadata": {},
          "execution_count": 48
        }
      ]
    }
  ]
}