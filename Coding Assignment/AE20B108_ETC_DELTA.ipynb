{
  "nbformat": 4,
  "nbformat_minor": 0,
  "metadata": {
    "colab": {
      "provenance": []
    },
    "kernelspec": {
      "name": "python3",
      "display_name": "Python 3"
    },
    "language_info": {
      "name": "python"
    }
  },
  "cells": [
    {
      "cell_type": "code",
      "execution_count": 20,
      "metadata": {
        "id": "GQJewFDxUloY"
      },
      "outputs": [],
      "source": [
        "import numpy as np\n"
      ]
    },
    {
      "cell_type": "code",
      "source": [
        "import numpy as np\n",
        "\n",
        "class AE20B108_ETC_DELTA:\n",
        "    def __init__(self, num_arms, num_samples, sigma, Delta):\n",
        "        self.__num_arms = num_arms\n",
        "        self.__num_samples = num_samples\n",
        "        self.__sigma = sigma\n",
        "        self.__Delta = Delta\n",
        "        self.__rewards = np.zeros(num_arms)\n",
        "        self.__arm_counts = [0] * num_arms\n",
        "        self.__m = int(max(1, np.ceil((4 / (Delta ** 2)) * (np.log(num_samples * (Delta ** 2) / 4)))))\n",
        "        self.__explore_phase = True\n",
        "        self.__best_arm = None\n",
        "        self.__current_arm = 0\n",
        "\n",
        "    def get_action(self, reward):\n",
        "        if self.__explore_phase:\n",
        "            if self.__arm_counts[self.__current_arm] < self.__m:\n",
        "                self.__arm_counts[self.__current_arm] += 1\n",
        "                self.__rewards[self.__current_arm] += reward\n",
        "                action = self.__current_arm\n",
        "                self.__current_arm = (self.__current_arm + 1) % self.__num_arms\n",
        "                return action\n",
        "            else:\n",
        "                self.__explore_phase = False\n",
        "                self.__best_arm = np.argmax(self.__rewards)\n",
        "                return self.__best_arm\n",
        "        else:\n",
        "            return self.__best_arm"
      ],
      "metadata": {
        "id": "IviSwfGwWQhk"
      },
      "execution_count": 18,
      "outputs": []
    },
    {
      "cell_type": "code",
      "source": [
        "class Environment:\n",
        "  def __init__(self,num_arms,mean,sigma,agent):\n",
        "    self.__num_samples = num_samples\n",
        "    self.__num_arms = num_arms\n",
        "    self.__mean = mean\n",
        "    self.__reward = -100\n",
        "    self.__action = np.zeros((num_samples,),dtype = int)\n",
        "    self.__agent = agent\n",
        "    self.__regret = 0\n",
        "\n",
        "  def run(self):\n",
        "    for i in range(self.__num_samples):\n",
        "      self.__action[i] = self.__agent.get_action(self.__reward)\n",
        "      self.__reward = self.__mean[self.__action[i]]+sigma*np.random.randn()\n",
        "    return self.__action, self.__reward"
      ],
      "metadata": {
        "id": "8I1FOQ0xUpCr"
      },
      "execution_count": 19,
      "outputs": []
    },
    {
      "cell_type": "code",
      "source": [
        "num_samples = 100\n",
        "num_arms = 4\n",
        "mean = np.random.rand(num_arms,)\n",
        "sigma = 1\n",
        "sorted_mean = np.sort(mean)\n",
        "Delta = sorted_mean[-1]-sorted_mean[-2]\n",
        "print(Delta)\n",
        "print(np.ceil((4 / (Delta ** 2)) * (np.log(num_samples * (Delta ** 2) / 4))))\n",
        "print(int(max(1, np.ceil((4 / (Delta ** 2)) * (np.log(num_samples * (Delta ** 2) / 4))))))\n",
        "agent = AE20B108_ETC_DELTA(num_arms,num_samples, sigma,Delta)\n",
        "env = Environment(num_arms,mean,sigma,agent)\n",
        "action_list, reward = env.run()"
      ],
      "metadata": {
        "id": "FgcoJOnUZOZV",
        "colab": {
          "base_uri": "https://localhost:8080/"
        },
        "outputId": "f2811a98-9c35-4227-a647-f516df45799e"
      },
      "execution_count": 26,
      "outputs": [
        {
          "output_type": "stream",
          "name": "stdout",
          "text": [
            "0.04191182936756577\n",
            "-7117.0\n",
            "1\n"
          ]
        }
      ]
    },
    {
      "cell_type": "code",
      "source": [
        "action_list"
      ],
      "metadata": {
        "id": "qA8rTEe_eJt_",
        "outputId": "8bc4fb73-490e-4605-db0d-1feb8af51b6a",
        "colab": {
          "base_uri": "https://localhost:8080/"
        }
      },
      "execution_count": 27,
      "outputs": [
        {
          "output_type": "execute_result",
          "data": {
            "text/plain": [
              "array([0, 1, 2, 3, 1, 1, 1, 1, 1, 1, 1, 1, 1, 1, 1, 1, 1, 1, 1, 1, 1, 1,\n",
              "       1, 1, 1, 1, 1, 1, 1, 1, 1, 1, 1, 1, 1, 1, 1, 1, 1, 1, 1, 1, 1, 1,\n",
              "       1, 1, 1, 1, 1, 1, 1, 1, 1, 1, 1, 1, 1, 1, 1, 1, 1, 1, 1, 1, 1, 1,\n",
              "       1, 1, 1, 1, 1, 1, 1, 1, 1, 1, 1, 1, 1, 1, 1, 1, 1, 1, 1, 1, 1, 1,\n",
              "       1, 1, 1, 1, 1, 1, 1, 1, 1, 1, 1, 1])"
            ]
          },
          "metadata": {},
          "execution_count": 27
        }
      ]
    },
    {
      "cell_type": "code",
      "source": [],
      "metadata": {
        "id": "7tsi_dDwYZ-h"
      },
      "execution_count": null,
      "outputs": []
    }
  ]
}