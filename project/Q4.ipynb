{
  "nbformat": 4,
  "nbformat_minor": 0,
  "metadata": {
    "colab": {
      "provenance": []
    },
    "kernelspec": {
      "name": "python3",
      "display_name": "Python 3"
    },
    "language_info": {
      "name": "python"
    }
  },
  "cells": [
    {
      "cell_type": "code",
      "source": [
        "import numpy as np\n",
        "import time\n",
        "# Students will submit their files with their team-name.py\n",
        "# Student have to use the Team as their parent class"
      ],
      "metadata": {
        "id": "RjPY68QJQ-nH"
      },
      "execution_count": 76,
      "outputs": []
    },
    {
      "cell_type": "markdown",
      "source": [
        "Recent Version of the Code"
      ],
      "metadata": {
        "id": "IyIa-PRKCTCb"
      }
    },
    {
      "cell_type": "code",
      "source": [
        "class AE20B108_Q4:\n",
        "  def __init__(self, num_balls, num_matches):\n",
        "    self.__num_actions = 6\n",
        "    self.__num_balls = num_balls\n",
        "    self.__num_matches = num_matches\n",
        "    self.__total_wicket = 0\n",
        "    self.__match_ball = 0\n",
        "    self.__alpha = 3.5\n",
        "    self.__wicket = 4\n",
        "    self.__M_X = 1\n",
        "    self.__M_R = 6\n",
        "    self.__prev_action = None\n",
        "    self.__arm_pulls = np.zeros(self.__num_actions)\n",
        "    self.__reward = np.zeros(self.__num_actions)\n",
        "    self.__cost = np.zeros(self.__num_actions)\n",
        "    self.__V_R = np.zeros(self.__num_actions)\n",
        "    self.__V_X = np.zeros(self.__num_actions)\n",
        "    self.__n = 0\n",
        "\n",
        "  def get_action(self, wicket, runs_scored):\n",
        "      if not self.__prev_action is None:\n",
        "          self.__arm_pulls[self.__prev_action] += 1\n",
        "          self.__reward[self.__prev_action] += runs_scored\n",
        "          self.__cost[self.__prev_action] += wicket + self.__wicket/self.__num_balls\n",
        "          self.__V_R[self.__prev_action] += runs_scored ** 2\n",
        "          self.__V_X[self.__prev_action] += (wicket + self.__wicket/self.__num_balls) ** 2\n",
        "      if self.__n < self.__num_actions:\n",
        "          action = self.__n\n",
        "      else:\n",
        "          r_mean = self.__reward / self.__arm_pulls\n",
        "          X_mean = (self.__cost + 1e-15) / self.__arm_pulls\n",
        "          R_var = self.__V_R / self.__arm_pulls - (self.__reward / self.__arm_pulls) ** 2\n",
        "          X_var = self.__V_X / self.__arm_pulls - ((self.__cost) / self.__arm_pulls) ** 2\n",
        "          eps = np.sqrt(2 * R_var * np.log(self.__n ** self.__alpha) / self.__arm_pulls) + 3 * self.__M_R * np.log(self.__n ** self.__alpha) / self.__arm_pulls\n",
        "          eta = np.sqrt(2 * X_var * np.log(self.__n ** self.__alpha) / self.__arm_pulls) + 3 * self.__M_X * np.log(self.__n ** self.__alpha) / self.__arm_pulls\n",
        "          rho_hat = r_mean / X_mean\n",
        "          c_hat = 1.4 * (eps + r_mean * eta) / X_mean\n",
        "          action = np.argmax(rho_hat + c_hat)\n",
        "      self.__n += 1\n",
        "      self.__prev_action = action\n",
        "      return action"
      ],
      "metadata": {
        "id": "BMvAByWtutLJ"
      },
      "execution_count": 77,
      "outputs": []
    },
    {
      "cell_type": "code",
      "source": [
        "class Environment:\n",
        "  def __init__(self,num_balls,agent):\n",
        "    self.num_balls = num_balls\n",
        "    self.agent = agent\n",
        "    self.__run_time = 0\n",
        "    self.__total_runs = 0\n",
        "    self.__total_wickets = 0\n",
        "    self.__runs_scored = 0\n",
        "    self.__start_time = 0\n",
        "    self.__end_time = 0\n",
        "    self.__p_out =np.array([0.001,0.01,0.02,0.03,0.1,0.3])\n",
        "    self.__p_run =np.array([1,0.9,0.85,0.8,0.75,0.7])\n",
        "    self.__action_runs_map = np.array([0,1,2,3,4,6])\n",
        "    self.__wickets_left = 4\n",
        "    self.__wicket = 0\n",
        "    self.__runs_scored = 0\n",
        "    self.__start_time = 0\n",
        "    self.__end_time = 0\n",
        "    self.__batting_order = np.array([0,1,2,3])\n",
        "\n",
        "  def __get_action(self):\n",
        "    self.__start_time      = time. time()\n",
        "    action          = self.agent.get_action(self.__wicket, self.__runs_scored)\n",
        "    self.__end_time        = time. time()\n",
        "    self.__run_time   = self.__run_time + self.__end_time - self.__start_time\n",
        "    return action\n",
        "\n",
        "\n",
        "  def __get_outcome(self, action):\n",
        "    pout = self.__p_out[action]\n",
        "    prun = self.__p_run[action]\n",
        "    wicket = np.random.choice(2,1,p=[1-pout,pout])[0]\n",
        "    runs = 0\n",
        "    if(wicket==0):\n",
        "      runs = self.__action_runs_map[action]*np.random.choice(2,1,p=[1-prun,prun])[0]\n",
        "    return wicket, runs\n",
        "\n",
        "\n",
        "  def innings(self):\n",
        "    self.__wickets_left = 4\n",
        "    self.__runs_scored = 0\n",
        "    self.__total_runs = 0\n",
        "    self.__total_wickets = 0\n",
        "    self.__run_time = 0\n",
        "    self.__start_time = 0\n",
        "    self.__end_time = 0\n",
        "\n",
        "    for ball in range(self.num_balls):\n",
        "      if (self.__wickets_left > 0 ) :\n",
        "        action = self.__get_action()\n",
        "        self.__wicket, self.__runs_scored   = self.__get_outcome(action)\n",
        "        self.__total_runs     = self.__total_runs + self.__runs_scored\n",
        "        if (self.__wicket > 0 ):\n",
        "          self.__wickets_left = self.__wickets_left -1\n",
        "        self.__total_wickets  = self.__total_wickets + self.__wicket\n",
        "        if (self.__wickets_left == 0):\n",
        "          self.__get_action()\n",
        "    return self.__total_runs, self.__total_wickets, self.__run_time\n"
      ],
      "metadata": {
        "id": "HzfBOAnrCycf"
      },
      "execution_count": 78,
      "outputs": []
    },
    {
      "cell_type": "code",
      "source": [
        "num_matches = 10\n",
        "num_balls = 60\n",
        "agent = AE20B108_Q4(num_balls,num_matches)\n",
        "environment = Environment(100,agent)\n",
        "score = np.zeros((num_matches,1))\n",
        "run_time = np.zeros((num_matches,1))\n",
        "wicket = np.zeros((num_matches,1))\n",
        "for i in range(num_matches):\n",
        "  score[i],wicket[i],run_time[i] = environment.innings()"
      ],
      "metadata": {
        "id": "9_o_gI21Hlme",
        "collapsed": true
      },
      "execution_count": 91,
      "outputs": []
    },
    {
      "cell_type": "code",
      "source": [
        "score"
      ],
      "metadata": {
        "id": "IqxrEMqXUBj3",
        "colab": {
          "base_uri": "https://localhost:8080/"
        },
        "outputId": "e60ad72f-dc37-444a-f57c-12aa228b17aa"
      },
      "execution_count": 92,
      "outputs": [
        {
          "output_type": "execute_result",
          "data": {
            "text/plain": [
              "array([[104.],\n",
              "       [103.],\n",
              "       [150.],\n",
              "       [ 76.],\n",
              "       [141.],\n",
              "       [119.],\n",
              "       [ 77.],\n",
              "       [174.],\n",
              "       [ 48.],\n",
              "       [133.]])"
            ]
          },
          "metadata": {},
          "execution_count": 92
        }
      ]
    },
    {
      "cell_type": "code",
      "source": [
        "np.sum(score)"
      ],
      "metadata": {
        "colab": {
          "base_uri": "https://localhost:8080/"
        },
        "id": "YYfVJXJ28Q8M",
        "outputId": "bfb45d8e-a46b-46da-8aa8-72ce49c2170c"
      },
      "execution_count": 93,
      "outputs": [
        {
          "output_type": "execute_result",
          "data": {
            "text/plain": [
              "1125.0"
            ]
          },
          "metadata": {},
          "execution_count": 93
        }
      ]
    },
    {
      "cell_type": "code",
      "source": [],
      "metadata": {
        "id": "iuc_v3nkg8i1"
      },
      "execution_count": null,
      "outputs": []
    }
  ]
}