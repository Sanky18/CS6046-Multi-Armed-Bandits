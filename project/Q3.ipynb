{
  "nbformat": 4,
  "nbformat_minor": 0,
  "metadata": {
    "colab": {
      "provenance": []
    },
    "kernelspec": {
      "name": "python3",
      "display_name": "Python 3"
    },
    "language_info": {
      "name": "python"
    }
  },
  "cells": [
    {
      "cell_type": "markdown",
      "source": [
        "You can use this template for problems 1, 2 and 3"
      ],
      "metadata": {
        "id": "XUfLiMPdNT6i"
      }
    },
    {
      "cell_type": "code",
      "source": [
        "import numpy as np\n",
        "import time\n",
        "# Students will submit their files with their team-name.py\n",
        "# Student have to use the Team as their parent class"
      ],
      "metadata": {
        "id": "RjPY68QJQ-nH"
      },
      "execution_count": 5,
      "outputs": []
    },
    {
      "cell_type": "markdown",
      "source": [],
      "metadata": {
        "id": "zXNSbMkhAIrX"
      }
    },
    {
      "cell_type": "code",
      "source": [
        "class AE20B108_Q3:\n",
        "  def __init__(self):\n",
        "    self.__num_actions = 6\n",
        "    self.__alpha = 3\n",
        "    self.__M_X = 1\n",
        "    self.__M_R = 6\n",
        "    self.__prev_action = None\n",
        "    self.__arm_pulls = np.zeros(self.__num_actions)\n",
        "    self.__reward = np.zeros(self.__num_actions)\n",
        "    self.__cost = np.zeros(self.__num_actions)\n",
        "    self.__V_R = np.zeros(self.__num_actions)\n",
        "    self.__V_X = np.zeros(self.__num_actions)\n",
        "    self.__n = 0\n",
        "\n",
        "  def get_action(self, wicket, runs_scored):\n",
        "    if not self.__prev_action is None:\n",
        "      self.__arm_pulls[self.__prev_action] += 1\n",
        "      self.__reward[self.__prev_action] += runs_scored\n",
        "      self.__cost[self.__prev_action] += wicket\n",
        "      self.__V_R[self.__prev_action] += runs_scored ** 2\n",
        "      self.__V_X[self.__prev_action] += (wicket) ** 2\n",
        "    if self.__n < self.__num_actions:\n",
        "      action = self.__n\n",
        "    else:\n",
        "      r_mean = self.__reward / self.__arm_pulls\n",
        "      X_mean = (self.__cost + 1e-15) / self.__arm_pulls\n",
        "      R_var = self.__V_R / self.__arm_pulls - (self.__reward / self.__arm_pulls) ** 2\n",
        "      X_var = self.__V_X / self.__arm_pulls - (self.__cost / self.__arm_pulls) ** 2\n",
        "      eps = np.sqrt(2 * R_var * np.log(self.__n ** self.__alpha) / self.__arm_pulls) + 3 * self.__M_R * np.log(self.__n ** self.__alpha) / self.__arm_pulls\n",
        "      eta = np.sqrt(2 * X_var * np.log(self.__n ** self.__alpha) / self.__arm_pulls) + 3 * self.__M_X * np.log(self.__n ** self.__alpha) / self.__arm_pulls\n",
        "      rho_hat = r_mean / X_mean\n",
        "      c_hat = 1.4 * (eps + rho_hat* eta) / X_mean\n",
        "      action = np.argmax(rho_hat + c_hat)\n",
        "    self.__n += 1\n",
        "    self.__prev_action = action\n",
        "    return action\n"
      ],
      "metadata": {
        "id": "u3mNBpDOCSWd"
      },
      "execution_count": 66,
      "outputs": []
    },
    {
      "cell_type": "code",
      "source": [
        "class AE20B108_Q3:\n",
        "  def __init__(self):\n",
        "    self.__num_actions = 6\n",
        "    self.__alpha = 3\n",
        "    self.__M_X = 1\n",
        "    self.__M_R = 6\n",
        "    self.__previous_action = None\n",
        "    self.__arm_pulls = np.zeros(self.__num_actions)\n",
        "    self.__reward = np.zeros(self.__num_actions)\n",
        "    self.__cost = np.zeros(self.__num_actions)\n",
        "    self.__V_R = np.zeros(self.__num_actions)\n",
        "    self.__V_X = np.zeros(self.__num_actions)\n",
        "    self.__n = 0\n",
        "\n",
        "  def get_action(self, wicket, runs_scored):\n",
        "    if not self.__previous_action is None :\n",
        "      self.__arm_pulls[self.__previous_action] += 1\n",
        "      self.__reward[self.__previous_action] += runs_scored\n",
        "      self.__cost[self.__previous_action] += (wicket)\n",
        "      self.__V_R[self.__previous_action] += runs_scored ** 2\n",
        "      self.__V_X[self.__previous_action] += wicket ** 2\n",
        "    if self.__n < self.__num_actions:\n",
        "      action = self.__n\n",
        "    else:\n",
        "      r_mean = self.__reward/self.__arm_pulls\n",
        "      X_mean = (self.__cost + 1e-15)/self.__arm_pulls\n",
        "      Var_R = self.__V_R/self.__arm_pulls - r_mean**2\n",
        "      Var_X = self.__V_X/self.__arm_pulls - (self.__cost/self.__arm_pulls)**2\n",
        "      eps = np.sqrt(2*Var_R*np.log(self.__n**self.__alpha)/self.__arm_pulls) + 3*self.__M_R*np.log(self.__n**self.__alpha)/self.__arm_pulls\n",
        "      eta = np.sqrt(2*Var_X*np.log(self.__n**self.__alpha)/self.__arm_pulls) + 3*self.__M_X*np.log(self.__n**self.__alpha)/self.__arm_pulls\n",
        "      rho_hat = r_mean/X_mean\n",
        "      c_hat = 1.4*(eps + rho_hat*eta) / X_mean\n",
        "      action = np.argmax(rho_hat + c_hat)\n",
        "    self.__n += 1\n",
        "    self.__previous_action = action\n",
        "    return action"
      ],
      "metadata": {
        "id": "w8wO7MLShp5x"
      },
      "execution_count": 26,
      "outputs": []
    },
    {
      "cell_type": "code",
      "source": [
        "class Environment:\n",
        "  def __init__(self,num_balls,agent):\n",
        "    self.num_balls = num_balls\n",
        "    self.agent = agent\n",
        "    self.__run_time = 0\n",
        "    self.__total_runs = 0\n",
        "    self.__total_wickets = 0\n",
        "    self.__runs_scored = 0\n",
        "    self.__start_time = 0\n",
        "    self.__end_time = 0\n",
        "    self.__regret_w = 0\n",
        "    self.__regret_s = 0\n",
        "    self.__wicket = 0\n",
        "    self.__regret_rho = 0\n",
        "    self.__p_out = np.array([0.001,0.01,0.02,0.03,0.1,0.3])\n",
        "    self.__p_run = np.array([1,0.9,0.85,0.8,0.75,0.7])\n",
        "    # self.__p_out = np.array([0.04,0.1,0.2,0.3,0.5,0.7])\n",
        "    # self.__p_run = np.array([1,0.9,0.55,0.8,0.75,0.7])\n",
        "    self.__action_runs_map = np.array([0,1,2,3,4,6])\n",
        "    self.__s = (1-self.__p_out)*self.__p_run*self.__action_runs_map\n",
        "    self.__rho = self.__s/self.__p_out\n",
        "\n",
        "\n",
        "  def __get_action(self):\n",
        "    self.__start_time      = time. time()\n",
        "    action          = self.agent.get_action(self.__wicket,self.__runs_scored)\n",
        "    self.__end_time        = time. time()\n",
        "    self.__run_time   = self.__run_time + self.__end_time - self.__start_time\n",
        "    return action\n",
        "\n",
        "\n",
        "  def __get_outcome(self, action):\n",
        "    pout = self.__p_out[action]\n",
        "    prun= self.__p_run[action]\n",
        "    wicket = np.random.choice(2,1,p=[1-pout,pout])[0]\n",
        "    runs = 0\n",
        "    if(wicket==0):\n",
        "      runs = self.__action_runs_map[action]*np.random.choice(2,1,p=[1-prun,prun])[0]\n",
        "    return wicket, runs\n",
        "\n",
        "\n",
        "  def innings(self):\n",
        "    self.__total_runs = 0\n",
        "    self.__total_wickets = 0\n",
        "    self.__runs_scored = 0\n",
        "\n",
        "    for ball in range(self.num_balls):\n",
        "      action = self.__get_action()\n",
        "      self.__wicket, self.__runs_scored   = self.__get_outcome(action)\n",
        "      self.__total_runs     = self.__total_runs + self.__runs_scored\n",
        "      self.__total_wickets  = self.__total_wickets + self.__wicket\n",
        "      self.__regret_w       = self.__regret_w+ (self.__p_out[action]-np.min(self.__p_out))\n",
        "      self.__regret_s       = self.__regret_s+ (np.max(self.__s) - self.__s[action])\n",
        "      self.__regret_rho       = self.__regret_rho+ (np.max(self.__rho)-self.__rho[action])\n",
        "    return self.__regret_w,self.__regret_s,self.__regret_rho, self.__total_runs, self.__total_wickets, self.__run_time"
      ],
      "metadata": {
        "id": "HzfBOAnrCycf"
      },
      "execution_count": 27,
      "outputs": []
    },
    {
      "cell_type": "code",
      "source": [
        "agent = AE20B108_Q3()\n",
        "environment = Environment(100,agent)\n",
        "regret_w,regret_s,reger_rho,total_runs,total_wickets,run_time = environment.innings()"
      ],
      "metadata": {
        "id": "9_o_gI21Hlme"
      },
      "execution_count": 41,
      "outputs": []
    },
    {
      "cell_type": "code",
      "source": [
        "print(regret_w,regret_s,reger_rho,total_runs,total_wickets,run_time)"
      ],
      "metadata": {
        "colab": {
          "base_uri": "https://localhost:8080/"
        },
        "id": "sCghHDVww4sZ",
        "outputId": "70826c2b-c437-4d9d-9ac5-e4df399fab8a"
      },
      "execution_count": 42,
      "outputs": [
        {
          "output_type": "stream",
          "name": "stdout",
          "text": [
            "1.800999999999992 173.1110000000003 556.0 116 3 0.006255149841308594\n"
          ]
        }
      ]
    }
  ]
}