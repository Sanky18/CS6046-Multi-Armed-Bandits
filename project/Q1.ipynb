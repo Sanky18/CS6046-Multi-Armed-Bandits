{
  "nbformat": 4,
  "nbformat_minor": 0,
  "metadata": {
    "colab": {
      "provenance": []
    },
    "kernelspec": {
      "name": "python3",
      "display_name": "Python 3"
    },
    "language_info": {
      "name": "python"
    }
  },
  "cells": [
    {
      "cell_type": "markdown",
      "source": [
        "You can use this template for problems 1, 2 and 3"
      ],
      "metadata": {
        "id": "XUfLiMPdNT6i"
      }
    },
    {
      "cell_type": "code",
      "source": [
        "import numpy as np\n",
        "import time\n",
        "import math\n",
        "# Students will submit their files with their team-name.py\n",
        "# Student have to use the Team as their parent class"
      ],
      "metadata": {
        "id": "RjPY68QJQ-nH"
      },
      "execution_count": 1,
      "outputs": []
    },
    {
      "cell_type": "markdown",
      "source": [
        "Recent Version of the Code"
      ],
      "metadata": {
        "id": "IyIa-PRKCTCb"
      }
    },
    {
      "cell_type": "code",
      "source": [
        "class AE20B108_Q1():\n",
        "  def __init__(self):\n",
        "    self.__num_actions = 6\n",
        "    self.__sample_means = np.zeros(self.__num_actions)\n",
        "    self.__arm_pulls = np.zeros(self.__num_actions)\n",
        "\n",
        "  @staticmethod\n",
        "  def KL(x, y, epsilon = 1e-15):\n",
        "    x = min((max(x, epsilon)), 1-epsilon)\n",
        "    y = min((max(y, epsilon)), 1-epsilon)\n",
        "    return x * np.log(x/y) + (1 - x) * np.log((1 - x)/(1 - y))\n",
        "\n",
        "  @staticmethod\n",
        "  def KLmaxUCB(c, t):\n",
        "    return np.log(t) + c * np.log(np.log(t))\n",
        "\n",
        "  @staticmethod\n",
        "  def KLUpperConfidenceBound(p, u, c, t):\n",
        "    maxBound = AE20B108_Q1.KLmaxUCB(c, t)/u\n",
        "    q = p\n",
        "    b = (1 - p)/2\n",
        "    while b > 1e-4:\n",
        "      if AE20B108_Q1.KL(p, q + b) <= maxBound:\n",
        "        q += b\n",
        "      b /= 2\n",
        "    return q\n",
        "\n",
        "  def get_action(self, wicket, runs_scored):\n",
        "    t = int(np.sum(self.__arm_pulls)) + 1\n",
        "    if t <= self.__num_actions:\n",
        "      action = t - 1\n",
        "      self.__arm_pulls[action] += 1\n",
        "      self.__sample_means[action] += (wicket)\n",
        "    else:\n",
        "      KL_estimates = [self.KLUpperConfidenceBound(p = self.__sample_means[i]/self.__arm_pulls[i], u = self.__arm_pulls[i], c = 3, t = t) for i in range(self.__num_actions)]\n",
        "      action = np.argmin(KL_estimates)\n",
        "      self.__arm_pulls[action] += 1\n",
        "      self.__sample_means[action] += wicket\n",
        "    return action"
      ],
      "metadata": {
        "id": "u3mNBpDOCSWd"
      },
      "execution_count": 50,
      "outputs": []
    },
    {
      "cell_type": "code",
      "source": [
        "class Environment:\n",
        "  def __init__(self,num_balls,agent):\n",
        "    self.num_balls = num_balls\n",
        "    self.agent = agent\n",
        "    self.__run_time = 0\n",
        "    self.__total_runs = 0\n",
        "    self.__total_wickets = 0\n",
        "    self.__runs_scored = 0\n",
        "    self.__start_time = 0\n",
        "    self.__end_time = 0\n",
        "    self.__regret_w = 0\n",
        "    self.__regret_s = 0\n",
        "    self.__wicket = 0\n",
        "    self.__regret_rho = 0\n",
        "    self.__p_out = np.array([0.001,0.01,0.02,0.03,0.1,0.3])\n",
        "    self.__p_run = np.array([1,0.9,0.85,0.8,0.75,0.7])\n",
        "    self.__action_runs_map = np.array([0,1,2,3,4,6])\n",
        "    self.__s = (1-self.__p_out)*self.__p_run*self.__action_runs_map\n",
        "    self.__rho = self.__s/self.__p_out\n",
        "\n",
        "\n",
        "  def __get_action(self):\n",
        "    self.__start_time      = time. time()\n",
        "    action          = self.agent.get_action(self.__wicket,self.__runs_scored)\n",
        "    self.__end_time        = time. time()\n",
        "    self.__run_time   = self.__run_time + self.__end_time - self.__start_time\n",
        "    return action\n",
        "\n",
        "\n",
        "  def __get_outcome(self, action):\n",
        "    pout = self.__p_out[action]\n",
        "    prun= self.__p_run[action]\n",
        "    wicket = np.random.choice(2,1,p=[1-pout,pout])[0]\n",
        "    runs = 0\n",
        "    if(wicket==0):\n",
        "      runs = self.__action_runs_map[action]*np.random.choice(2,1,p=[1-prun,prun])[0]\n",
        "    return wicket, runs\n",
        "\n",
        "\n",
        "  def innings(self):\n",
        "    self.__total_runs = 0\n",
        "    self.__total_wickets = 0\n",
        "    self.__runs_scored = 0\n",
        "\n",
        "    for ball in range(self.num_balls):\n",
        "      action = self.__get_action()\n",
        "      self.__wicket, self.__runs_scored   = self.__get_outcome(action)\n",
        "      self.__total_runs     = self.__total_runs + self.__runs_scored\n",
        "      self.__total_wickets  = self.__total_wickets + self.__wicket\n",
        "      self.__regret_w       = self.__regret_w+ (self.__p_out[action]-np.min(self.__p_out))\n",
        "      self.__regret_s       = self.__regret_s+ (np.max(self.__s) - self.__s[action])\n",
        "      self.__regret_rho       = self.__regret_rho+ (np.max(self.__rho)-self.__rho[action])\n",
        "    return self.__regret_w,self.__regret_s,self.__regret_rho, self.__total_runs, self.__total_wickets, self.__run_time\n"
      ],
      "metadata": {
        "id": "HzfBOAnrCycf"
      },
      "execution_count": 97,
      "outputs": []
    },
    {
      "cell_type": "code",
      "source": [
        "agent = AE20B108_Q1()\n",
        "environment = Environment(100,agent)\n",
        "regret_w,regret_s,reger_rho,total_runs,total_wickets,run_time = environment.innings()\n",
        "print(regret_w,regret_s,reger_rho,total_runs,total_wickets,run_time)"
      ],
      "metadata": {
        "id": "9_o_gI21Hlme",
        "colab": {
          "base_uri": "https://localhost:8080/"
        },
        "outputId": "ebc18ae3-308b-4204-cd36-4fbb75ea164a"
      },
      "execution_count": 113,
      "outputs": [
        {
          "output_type": "stream",
          "name": "stdout",
          "text": [
            "0.45499999999999996 283.4749999999998 8623.200000000015 6 1 0.03208518028259277\n"
          ]
        }
      ]
    }
  ]
}